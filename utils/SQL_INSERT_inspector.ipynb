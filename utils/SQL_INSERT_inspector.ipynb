{
  "cells": [
    {
      "cell_type": "markdown",
      "metadata": {
        "id": "bHCjN6yGIxxF"
      },
      "source": [
        "<h1> SQL INSERT Inspector\n",
        "\n",
        "<h5> Code developed to check txt file lines and correct SQL queries inside it."
      ]
    },
    {
      "cell_type": "code",
      "execution_count": null,
      "metadata": {
        "id": "Zs48HleHIm7z"
      },
      "outputs": [],
      "source": [
        "# Step 0: import libraries\n",
        "import numpy as np\n",
        "import pandas as pd\n"
      ]
    },
    {
      "cell_type": "code",
      "execution_count": null,
      "metadata": {
        "colab": {
          "base_uri": "https://localhost:8080/"
        },
        "id": "3c0db9SpJOA1",
        "outputId": "45a3eefa-80c1-4253-ce68-0ffbe3d3efb2"
      },
      "outputs": [
        {
          "name": "stdout",
          "output_type": "stream",
          "text": [
            "['INSERT INTO Jobs VALUES ( ’ AD_PRES ’ , ’ President ’ , 20000 , 40000) ;', '\\n2 INSERT INTO Jobs VALUES ( ’ AD_VP ’ , ’ Administration Vice President ’ , 15000 , \\n30000) ;', ' 3 \\n\\nINSERT INTO Jobs VALUES ( ’ AD_ASST ’ , ’ Administration Assistant ’ , 3000 , 6000) ;', '\\n4 INSERT INTO Jobs VALUES ( ’ AC_MGR ’ , ’ Account Manager ’ , 8200 , 16000) ;', '\\n5 INSERT INTO Jobs VALUES ( ’ AC_ACCOUNT ’ , ’ Public Accountant ’ , 4200 , 9000) ;', '\\n6 INSERT INTO Jobs VALUES ( ’ SA_MAN ’ , ’ Sales Manager ’ , 10000 , 20000) ;', '\\n7 INSERT INTO Jobs VALUES ( ’ SA_REP ’ , ’ Sales Representative ’ , 6000 , 12000) ;', '\\n8 INSERT INTO Jobs VALUES ( ’ ST_MAN ’ , ’ Stock Manager ’ , 5500 , 8500) ;', '\\n9 INSERT INTO Jobs VALUES ( ’ ST_CLERK ’ , ’ Stock Clerk ’ , 2000 , 5000) ;', '\\n10 INSERT INTO Jobs VALUES ( ’ IT_PROG ’ , ’ Programmer ’ , 4000 , 10000) ;', '\\n11 INSERT INTO Jobs VALUES ( ’ MK_MAN ’ , ’ Marketing Manager ’ , 9000 , 15000) ;', '\\n12 INSERT INTO Jobs VALUES ( ’ MK_REP ’ , ’ Marketing Representative ’ , 4000 , 9000) ;']\n"
          ]
        }
      ],
      "source": [
        "# Step 1: read file and create a list with it\n",
        "\n",
        "lines = []\n",
        "line = ''\n",
        "input = open(\"test.txt\", \"r\")\n",
        "while True:\n",
        "  content = input.readline()\n",
        "  if not content:\n",
        "    break\n",
        "  for each in content:\n",
        "    line += str(each)\n",
        "    if (each == ';'):\n",
        "      lines.append(line)\n",
        "      line = ''\n",
        "input.close()\n",
        "\n",
        "print(lines)\n",
        "\n"
      ]
    },
    {
      "cell_type": "code",
      "execution_count": null,
      "metadata": {
        "colab": {
          "base_uri": "https://localhost:8080/"
        },
        "id": "LIACRes1JUVy",
        "outputId": "ac3649a2-8f63-44b0-b714-cdce0d56dee2"
      },
      "outputs": [
        {
          "name": "stdout",
          "output_type": "stream",
          "text": [
            "[\"('AD_PRES','President',20000,40000)\", \"('AD_VP','Administration Vice President',15000,\\n30000)\", \"('AD_ASST','Administration Assistant',3000,6000)\", \"('AC_MGR','Account Manager',8200,16000)\", \"('AC_ACCOUNT','Public Accountant',4200,9000)\", \"('SA_MAN','Sales Manager',10000,20000)\", \"('SA_REP','Sales Representative',6000,12000)\", \"('ST_MAN','Stock Manager',5500,8500)\", \"('ST_CLERK','Stock Clerk',2000,5000)\", \"('IT_PROG','Programmer',4000,10000)\", \"('MK_MAN','Marketing Manager',9000,15000)\", \"('MK_REP','Marketing Representative',4000,9000)\"]\n"
          ]
        }
      ],
      "source": [
        "# Step 2: read line by line, clean dusty, and split words (comma separator)\n",
        "\n",
        "lines = stardardization(lines)\n",
        "\n",
        "# Split query into key query words and values\n",
        "keys, values = splitKeysAndValues(lines)\n",
        "\n",
        "# Change Symbols from values\n",
        "values = changeSymbols(values, \"’\", \"\\'\")\n",
        "\n",
        "# Remove spaces between words\n",
        "values = removeSpaces(values)\n",
        "for i in range(5):\n",
        "  values = removeSpecificSpace(values, \"\\'\") # More than once just to make sure it didn't left any space behind\n",
        "\n",
        "\n"
      ]
    },
    {
      "cell_type": "code",
      "execution_count": null,
      "metadata": {
        "id": "McIz5Ky7Qa7A"
      },
      "outputs": [],
      "source": [
        "# Step 3: Define functions to realize procedures\n",
        "\n",
        "def removeFirstElement(input):\n",
        "  output = input[1::]\n",
        "  return output\n",
        "\n",
        "def removeSpecificElement(input, element):\n",
        "  aux = 0\n",
        "\n",
        "  for each in input:\n",
        "    if (each == element):\n",
        "      input = input[0:aux] + input[aux+1:]\n",
        "    aux+=1\n",
        "\n",
        "  return input\n",
        "\n",
        "def removeSpecificScape(input, element):\n",
        "  aux = 0\n",
        "  for each in input:\n",
        "    if (each == element):\n",
        "      if (input[aux-1] == '\\\\'):\n",
        "        if (input[aux+2] == True):\n",
        "          input = input[0:aux-2] + input[aux+1:]\n",
        "    aux+=1\n",
        "\n",
        "  return input\n",
        "\n",
        "def stardardization(lists):\n",
        "  new_list = []\n",
        "  for line in lists:\n",
        "    line = removeSpecificScape(line, 'n')\n",
        "    if ((line[0] != 'I') or (line[0] != 'i')):\n",
        "      while ((line[0] != 'I' and line[0] != 'i')):\n",
        "        line = removeFirstElement(line)\n",
        "    new_list.append(line)\n",
        "  return new_list\n",
        "\n",
        "def splitKeysAndValues(lists):\n",
        "  keys_list = []\n",
        "  values_list = []\n",
        "  for line in lists:\n",
        "    key_words = ''\n",
        "    values_words = ''\n",
        "    bitDivisor = False;\n",
        "\n",
        "    for each in line:\n",
        "      if (each == '(' or each == ')'):\n",
        "        bitDivisor = not bitDivisor\n",
        "      if (bitDivisor == False):\n",
        "        key_words += each\n",
        "      if (bitDivisor == True):\n",
        "        values_words += each\n",
        "      if (each == ')'):\n",
        "        values_words += each\n",
        "    key_words = removeSpecificElement(key_words, ')')\n",
        "    key_words = removeSpecificElement(key_words, ';')\n",
        "    keys_list.append(key_words)\n",
        "    values_list.append(values_words)\n",
        "\n",
        "  return keys_list, values_list\n",
        "\n",
        "def changeSymbols(input, oldSymbol, newSymbol):\n",
        "  output = []\n",
        "  for line in input:\n",
        "    new_line = ''\n",
        "    for each in line:\n",
        "      if (each == oldSymbol):\n",
        "        each = newSymbol\n",
        "      new_line += each\n",
        "    output.append(new_line)\n",
        "  return output\n",
        "\n",
        "def removeSpaces(lists):\n",
        "  new_list = []\n",
        "  for line in lists:\n",
        "    words = ''\n",
        "    bitDivisor = False;\n",
        "    aux = 0\n",
        "    for each in line:\n",
        "      if (each == '\\''):\n",
        "        bitDivisor = not bitDivisor\n",
        "      if (bitDivisor == False and each == \" \"):\n",
        "        continue\n",
        "      words += each\n",
        "    new_list.append(words)\n",
        "\n",
        "  return new_list\n",
        "\n",
        "def removeSpecificSpace(lists, element):\n",
        "  new_list = []\n",
        "  for line in lists:\n",
        "    aux = 0\n",
        "    for each in line:\n",
        "      if (each == element):\n",
        "        if (line[aux-1] == ' '):\n",
        "          line = line[0:aux-1] + line[aux:]\n",
        "        if (line[aux+1] == ' '):\n",
        "          line = line[0:aux+1] + line[aux+2:]\n",
        "      aux+=1\n",
        "    new_list.append(line)\n",
        "  return new_list\n"
      ]
    },
    {
      "cell_type": "code",
      "execution_count": null,
      "metadata": {
        "id": "MZvl5lvCJ6vz"
      },
      "outputs": [],
      "source": [
        "# Step 4: Create an output txt file and save right queries into it\n",
        "\n",
        "output = open(\"o_test.txt\",\"w+\")\n",
        "aux = 0\n",
        "for line in keys:\n",
        "  output.write(keys[aux] + values[aux] + \";\\n\")\n",
        "  aux += 1\n",
        "output.close()\n"
      ]
    }
  ],
  "metadata": {
    "colab": {
      "provenance": []
    },
    "kernelspec": {
      "display_name": "Python 3",
      "name": "python3"
    },
    "language_info": {
      "name": "python"
    }
  },
  "nbformat": 4,
  "nbformat_minor": 0
}
